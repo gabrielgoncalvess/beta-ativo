{
 "cells": [
  {
   "cell_type": "code",
   "execution_count": 1,
   "metadata": {},
   "outputs": [
    {
     "name": "stderr",
     "output_type": "stream",
     "text": [
      "2023-05-30 21:28:43.494 INFO    numexpr.utils: NumExpr defaulting to 8 threads.\n"
     ]
    }
   ],
   "source": [
    "import streamlit as st\n",
    "import pandas as pd\n",
    "import numpy as np\n",
    "from pandas_datareader import data as web\n",
    "from sklearn.linear_model import LinearRegression\n",
    "import matplotlib.pyplot as plt\n",
    "from scipy import stats\n",
    "import yfinance as yfin\n",
    "\n",
    "yfin.pdr_override()"
   ]
  },
  {
   "cell_type": "code",
   "execution_count": 7,
   "metadata": {},
   "outputs": [
    {
     "name": "stdout",
     "output_type": "stream",
     "text": [
      "[*********************100%***********************]  1 of 1 completed\n"
     ]
    },
    {
     "data": {
      "text/plain": [
       "Date\n",
       "2023-01-02    21.097351\n",
       "2023-01-03    20.694090\n",
       "2023-01-04    20.713762\n",
       "2023-01-05    21.323568\n",
       "2023-01-06    21.598963\n",
       "                ...    \n",
       "2023-04-27    21.812557\n",
       "2023-04-28    22.072350\n",
       "2023-05-02    21.290001\n",
       "2023-05-03    21.120001\n",
       "2023-05-04    21.200001\n",
       "Name: Adj Close, Length: 84, dtype: float64"
      ]
     },
     "execution_count": 7,
     "metadata": {},
     "output_type": "execute_result"
    }
   ],
   "source": [
    "web.get_data_yahoo('ITUB3.SA', start='2023-01-01', end='2023-05-05', ignore_tz=True)['Adj Close']"
   ]
  },
  {
   "cell_type": "code",
   "execution_count": null,
   "metadata": {},
   "outputs": [],
   "source": [
    "web.DataReader(\"ITUB3.SA\", start='2023-01-01', end='2023-05-05', data_source='yahoo')['Adj Close']"
   ]
  },
  {
   "cell_type": "code",
   "execution_count": 6,
   "metadata": {},
   "outputs": [
    {
     "name": "stdout",
     "output_type": "stream",
     "text": [
      "[*********************100%***********************]  1 of 1 completed\n"
     ]
    },
    {
     "data": {
      "text/plain": [
       "Date\n",
       "2023-01-02    106376.0\n",
       "2023-01-03    104166.0\n",
       "2023-01-04    105334.0\n",
       "2023-01-05    107518.0\n",
       "2023-01-06    108836.0\n",
       "                ...   \n",
       "2023-04-27    102923.0\n",
       "2023-04-28    104432.0\n",
       "2023-05-02    101927.0\n",
       "2023-05-03    101797.0\n",
       "2023-05-04    102174.0\n",
       "Name: Adj Close, Length: 84, dtype: float64"
      ]
     },
     "execution_count": 6,
     "metadata": {},
     "output_type": "execute_result"
    }
   ],
   "source": [
    "web.get_data_yahoo('^BVSP', start='2023-01-01', end='2023-05-05', ignore_tz=True)['Adj Close']"
   ]
  },
  {
   "cell_type": "code",
   "execution_count": null,
   "metadata": {},
   "outputs": [],
   "source": []
  }
 ],
 "metadata": {
  "kernelspec": {
   "display_name": "base",
   "language": "python",
   "name": "python3"
  },
  "language_info": {
   "codemirror_mode": {
    "name": "ipython",
    "version": 3
   },
   "file_extension": ".py",
   "mimetype": "text/x-python",
   "name": "python",
   "nbconvert_exporter": "python",
   "pygments_lexer": "ipython3",
   "version": "3.9.13"
  },
  "orig_nbformat": 4
 },
 "nbformat": 4,
 "nbformat_minor": 2
}
